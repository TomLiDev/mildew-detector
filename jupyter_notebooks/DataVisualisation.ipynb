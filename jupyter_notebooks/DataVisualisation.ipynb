{
 "cells": [
  {
   "cell_type": "markdown",
   "metadata": {},
   "source": [
    "# Data Visualisation"
   ]
  },
  {
   "cell_type": "markdown",
   "metadata": {},
   "source": [
    "## Objectives\n",
    "\n",
    "1. Create figures to show average infected and healthy leaves\n",
    "2. Create figures to show variability of infected and healthy leaf images\n",
    "3. Create figures to show difference between average healthy and infected leaves\n",
    "4. Create image montage function for healthy and infected leaves\n",
    "5. Analyse and determine differences in number/amount of green pixels in healthy and infected leaves.\n",
    "\n",
    "## Inputs\n",
    "\n",
    "- inputs/mildew_dataset/cherry-leaves/test\n",
    "- inputs/mildew_dataset/cherry-leaves/train\n",
    "- inputs/mildew_dataset/cherry-leaves/validation\n",
    "\n",
    "## Outputs\n",
    "\n",
    "- Image shape embeddings pickle file\n",
    "- Figures to show average and variability of infected and healthy leaves\n",
    "- Figures to show difference between average healthy and infected leaves\n",
    "- Create image montage function\n",
    "- Create figures to show green pixel analysis\n"
   ]
  },
  {
   "cell_type": "markdown",
   "metadata": {},
   "source": [
    "## Set Directory"
   ]
  },
  {
   "cell_type": "code",
   "execution_count": 2,
   "metadata": {},
   "outputs": [
    {
     "data": {
      "text/plain": [
       "'/workspaces/mildew-detector/jupyter_notebooks'"
      ]
     },
     "execution_count": 2,
     "metadata": {},
     "output_type": "execute_result"
    }
   ],
   "source": [
    "import os\n",
    "current_dir = os.getcwd()\n",
    "current_dir"
   ]
  },
  {
   "cell_type": "code",
   "execution_count": 3,
   "metadata": {},
   "outputs": [
    {
     "name": "stdout",
     "output_type": "stream",
     "text": [
      "/workspaces/mildew-detector/jupyter_notebooks\n"
     ]
    }
   ],
   "source": [
    "os.chdir(os.path.dirname(current_dir))\n",
    "print(current_dir)"
   ]
  },
  {
   "cell_type": "code",
   "execution_count": 10,
   "metadata": {},
   "outputs": [
    {
     "data": {
      "text/plain": [
       "'/workspaces/mildew-detector'"
      ]
     },
     "execution_count": 10,
     "metadata": {},
     "output_type": "execute_result"
    }
   ],
   "source": [
    "current_dir = os.getcwd()\n",
    "current_dir"
   ]
  },
  {
   "cell_type": "code",
   "execution_count": null,
   "metadata": {},
   "outputs": [],
   "source": [
    "%pip install -r /workspaces/mildew-detector/requirements.txt"
   ]
  },
  {
   "cell_type": "markdown",
   "metadata": {},
   "source": [
    "## Import Libraries"
   ]
  },
  {
   "cell_type": "code",
   "execution_count": 5,
   "metadata": {},
   "outputs": [],
   "source": [
    "import os\n",
    "import pandas as pd\n",
    "import numpy as np\n",
    "import matplotlib.pyplot as plt\n",
    "import seaborn as sns\n",
    "import joblib\n",
    "sns.set_style(\"white\")\n",
    "from matplotlib.image import imread\n",
    "from PIL import Image"
   ]
  },
  {
   "cell_type": "markdown",
   "metadata": {},
   "source": [
    "## Set Input Directories\n",
    "\n",
    "Note - Check my_data_dir points to correct folder, change for resized images"
   ]
  },
  {
   "cell_type": "code",
   "execution_count": 6,
   "metadata": {},
   "outputs": [
    {
     "name": "stdout",
     "output_type": "stream",
     "text": [
      "train path inputs/mildew_dataset/cherry-leaves/resized/train\n",
      "validation path inputs/mildew_dataset/cherry-leaves/resized/validation\n",
      "test path inputs/mildew_dataset/cherry-leaves/resized/test\n"
     ]
    },
    {
     "data": {
      "text/plain": [
       "'/workspaces/mildew-detector'"
      ]
     },
     "execution_count": 6,
     "metadata": {},
     "output_type": "execute_result"
    }
   ],
   "source": [
    "my_data_dir = 'inputs/mildew_dataset/cherry-leaves/resized'\n",
    "train_path = my_data_dir + '/train'\n",
    "val_path = my_data_dir + '/validation'\n",
    "test_path = my_data_dir + '/test'\n",
    "\n",
    "print('train path', train_path)\n",
    "print('validation path', val_path)\n",
    "print('test path', test_path)\n",
    "current_dir"
   ]
  },
  {
   "cell_type": "markdown",
   "metadata": {},
   "source": [
    "## Set Output Directories"
   ]
  },
  {
   "cell_type": "code",
   "execution_count": 7,
   "metadata": {},
   "outputs": [
    {
     "name": "stdout",
     "output_type": "stream",
     "text": [
      "Old version is already available create a new version.\n"
     ]
    }
   ],
   "source": [
    "version = 'v2'\n",
    "file_path = f'outputs/{version}'\n",
    "\n",
    "if 'outputs' in os.listdir(current_dir) and version in os.listdir(current_dir + '/outputs'):\n",
    "    print('Old version is already available create a new version.')\n",
    "    pass\n",
    "else:\n",
    "    os.makedirs(name=file_path)"
   ]
  },
  {
   "cell_type": "markdown",
   "metadata": {},
   "source": [
    "### Set Labels Names"
   ]
  },
  {
   "cell_type": "code",
   "execution_count": 8,
   "metadata": {},
   "outputs": [
    {
     "name": "stdout",
     "output_type": "stream",
     "text": [
      "Label for the images are ['powdery_mildew', 'healthy']\n"
     ]
    }
   ],
   "source": [
    "labels = os.listdir(train_path)\n",
    "print('Label for the images are', labels)"
   ]
  },
  {
   "cell_type": "markdown",
   "metadata": {},
   "source": [
    "## Visualisation of Image Data\n",
    "\n",
    "#### Image Shape"
   ]
  },
  {
   "cell_type": "code",
   "execution_count": null,
   "metadata": {},
   "outputs": [],
   "source": [
    "dim1, dim2 = [], []\n",
    "for label in labels:\n",
    "    for image_filename in os.listdir(train_path + '/' + label):\n",
    "        img = imread(train_path + '/' + label + '/' + image_filename)\n",
    "        d1, d2, colors = img.shape\n",
    "        dim1.append(d1)  # image height\n",
    "        dim2.append(d2)  # image width\n",
    "\n",
    "sns.set_style(\"whitegrid\")\n",
    "fig, axes = plt.subplots()\n",
    "sns.scatterplot(x=dim2, y=dim1, alpha=0.2)\n",
    "axes.set_xlabel(\"Width (pixels)\")\n",
    "axes.set_ylabel(\"Height (pixels)\")\n",
    "dim1_mean = int(np.array(dim1).mean())\n",
    "dim2_mean = int(np.array(dim2).mean())\n",
    "dim1_max = int(np.array(dim1).max())\n",
    "dim2_max = int(np.array(dim2).max())\n",
    "dim1_min = int(np.array(dim1).min())\n",
    "dim2_min = int(np.array(dim2).min())\n",
    "axes.axvline(x=dim1_mean, color='r', linestyle='--')\n",
    "axes.axhline(y=dim2_mean, color='r', linestyle='--')\n",
    "plt.show()\n",
    "print(f\"Width average: {dim2_mean} \\nHeight average: {dim1_mean}\")\n",
    "print(f\"Maximums: {dim1_max} {dim2_max}\")\n",
    "print(f\"Minimums: {dim1_min} {dim2_min}\")\n"
   ]
  },
  {
   "cell_type": "markdown",
   "metadata": {},
   "source": [
    "#### No Variability in Train Image File Dimensions\n",
    "\n",
    "The above analysis shows all images are of the same size and shape.\n",
    "\n",
    "NOTE - The below function acts as a confirmation to check and return the number of images that are of different sizes, this is tweaked for use with 100 pixel images."
   ]
  },
  {
   "cell_type": "code",
   "execution_count": null,
   "metadata": {},
   "outputs": [],
   "source": [
    "different_images = []\n",
    "for label in labels:\n",
    "    for image_filename in os.listdir(train_path + '/' + label):\n",
    "        img = imread(train_path + '/' + label + '/' + image_filename)\n",
    "        d1, d2, colors = img.shape\n",
    "        if d1 != 100:\n",
    "            different_images.append(d1)\n",
    "        length = len(different_images)\n",
    "print(f\" Number of images that are not 100x100 pixels {different_images}  {length}\")\n",
    "        \n"
   ]
  },
  {
   "cell_type": "code",
   "execution_count": null,
   "metadata": {},
   "outputs": [],
   "source": [
    "image_shape = (dim1_mean, dim2_mean, 3)\n",
    "image_shape"
   ]
  },
  {
   "cell_type": "code",
   "execution_count": null,
   "metadata": {},
   "outputs": [],
   "source": [
    "joblib.dump(value=image_shape ,\n",
    "            filename=f\"{file_path}/image_shape.pkl\")"
   ]
  },
  {
   "cell_type": "markdown",
   "metadata": {},
   "source": [
    "## Average and Variability of Images per Label - Used to load images to array\n",
    "\n",
    "#### Function to load images to an array\n",
    "\n",
    "Note - Resizing part of this function won't have any effect as all images are same size. Look at how the function is called in next cell."
   ]
  },
  {
   "cell_type": "code",
   "execution_count": null,
   "metadata": {},
   "outputs": [],
   "source": [
    "from tensorflow.keras.preprocessing import image\n",
    "\n",
    "\n",
    "def load_image_as_array(my_data_dir, new_size=(50, 50), n_images_per_label=20):\n",
    "\n",
    "    X, y = np.array([], dtype='int'), np.array([], dtype='object')\n",
    "    labels = os.listdir(my_data_dir)\n",
    "\n",
    "    for label in labels:\n",
    "        counter = 0\n",
    "        for image_filename in os.listdir(my_data_dir + '/' + label):\n",
    "            # n_images_per_label: a limit is set otherwise it may take too much time\n",
    "            if counter < n_images_per_label:\n",
    "\n",
    "                img = image.load_img(\n",
    "                    my_data_dir + '/' + label + '/' + image_filename, target_size=new_size)\n",
    "                if image.img_to_array(img).max() > 1:\n",
    "                    img_resized = image.img_to_array(img) / 255\n",
    "                else:\n",
    "                    img_resized = image.img_to_array(img)\n",
    "\n",
    "                X = np.append(X, img_resized).reshape(-1,\n",
    "                                                      new_size[0], new_size[1], img_resized.shape[2])\n",
    "                y = np.append(y, label)\n",
    "                counter += 1\n",
    "\n",
    "    return X, y\n"
   ]
  },
  {
   "cell_type": "markdown",
   "metadata": {},
   "source": [
    "#### Load image shapes\n",
    "\n",
    "In below, as the function is being called with new_size=image shape, and image_shape is the calculated mean across the training images (which is either 256 exactly or 100 exactly for the resized images), no actual change will occur on image sizes. Keeping in for simplicity for now. "
   ]
  },
  {
   "cell_type": "code",
   "execution_count": null,
   "metadata": {},
   "outputs": [],
   "source": [
    "X, y = load_image_as_array(my_data_dir=train_path,\n",
    "                           new_size=image_shape,\n",
    "                           n_images_per_label=30)\n",
    "print(X.shape, y.shape)"
   ]
  },
  {
   "cell_type": "markdown",
   "metadata": {},
   "source": [
    "#### Plot and Save Mean Variability of images per label\n"
   ]
  },
  {
   "cell_type": "code",
   "execution_count": null,
   "metadata": {},
   "outputs": [],
   "source": [
    "def plot_mean_variability_per_labels(X, y, figsize=(12, 5), save_image=False):\n",
    "    \"\"\"\n",
    "    The pseudo-code for the function is:\n",
    "    * Loop over all labels\n",
    "    * Subset an array for a given label\n",
    "    * Calculate the mean and standard deviation\n",
    "    * Create a figure displaying the mean and variability of images\n",
    "    * Save the image\n",
    "    \"\"\"\n",
    "\n",
    "    for label_to_display in np.unique(y):\n",
    "        sns.set_style(\"white\")\n",
    "\n",
    "        y = y.reshape(-1, 1, 1)\n",
    "        boolean_mask = np.any(y == label_to_display, axis=1).reshape(-1)\n",
    "        arr = X[boolean_mask]\n",
    "\n",
    "        avg_img = np.mean(arr, axis=0)\n",
    "        std_img = np.std(arr, axis=0)\n",
    "        print(f\"==== Label {label_to_display} ====\")\n",
    "        print(f\"Image Shape: {avg_img.shape}\")\n",
    "        fig, axes = plt.subplots(nrows=1, ncols=2, figsize=figsize)\n",
    "        axes[0].set_title(f\"Average image for label {label_to_display}\")\n",
    "        axes[0].imshow(avg_img, cmap='gray')\n",
    "        axes[1].set_title(f\"Variability image for label {label_to_display}\")\n",
    "        axes[1].imshow(std_img, cmap='gray')\n",
    "\n",
    "        if save_image:\n",
    "            plt.savefig(f\"{file_path}/avg_var_{label_to_display}.png\",\n",
    "                        bbox_inches='tight', dpi=150)\n",
    "        else:\n",
    "            plt.tight_layout()\n",
    "            plt.show()\n",
    "            print(\"\\n\")\n"
   ]
  },
  {
   "cell_type": "code",
   "execution_count": null,
   "metadata": {},
   "outputs": [],
   "source": [
    "plot_mean_variability_per_labels(X=X, y=y, figsize=(12, 5), save_image=True)"
   ]
  },
  {
   "cell_type": "markdown",
   "metadata": {},
   "source": [
    "## Difference between average infected and uninfected cherry leaf images"
   ]
  },
  {
   "cell_type": "code",
   "execution_count": null,
   "metadata": {},
   "outputs": [],
   "source": [
    "def subset_image_label(X, y, label_to_display):\n",
    "    y = y.reshape(-1, 1, 1)\n",
    "    boolean_mask = np.any(y == label_to_display, axis=1).reshape(-1)\n",
    "    df = X[boolean_mask]\n",
    "    return df\n",
    "\n",
    "\n",
    "def diff_bet_avg_image_labels_data_as_array(X, y, label_1, label_2, figsize=(20, 5), save_image=False):\n",
    "    \"\"\"\n",
    "    Checks if the labels exist in the set of unique labels\n",
    "    Calculates the mean and difference for label1 and label2\n",
    "    Plots a chart and saves it if save_image=True\n",
    "    \"\"\"\n",
    "    sns.set_style(\"white\")\n",
    "\n",
    "    if (label_1 not in np.unique(y)) or (label_2 not in np.unique(y)):\n",
    "        print(\n",
    "            f\"Either label {label} or label {label_2}, are not in {np.unique(y)} \")\n",
    "        return\n",
    "\n",
    "    # calculate mean from label1\n",
    "    images_label = subset_image_label(X, y, label_1)\n",
    "    label1_avg = np.mean(images_label, axis=0)\n",
    "\n",
    "    # calculate mean from label2\n",
    "    images_label = subset_image_label(X, y, label_2)\n",
    "    label2_avg = np.mean(images_label, axis=0)\n",
    "\n",
    "    # calculate difference and plot difference, avg label1 and avg label2\n",
    "    difference_mean = label1_avg - label2_avg\n",
    "    fig, axes = plt.subplots(nrows=1, ncols=3, figsize=figsize)\n",
    "    axes[0].imshow(label1_avg, cmap='gray')\n",
    "    axes[0].set_title(f'Average {label_1}')\n",
    "    axes[1].imshow(label2_avg, cmap='gray')\n",
    "    axes[1].set_title(f'Average {label_2}')\n",
    "    axes[2].imshow(difference_mean, cmap='gray')\n",
    "    axes[2].set_title(f'Difference image: Avg {label_1} & {label_2}')\n",
    "    if save_image:\n",
    "        plt.savefig(f\"{file_path}/avg_diff.png\", bbox_inches='tight', dpi=150)\n",
    "    else:\n",
    "        plt.tight_layout()\n",
    "        plt.show()\n"
   ]
  },
  {
   "cell_type": "code",
   "execution_count": null,
   "metadata": {},
   "outputs": [],
   "source": [
    "diff_bet_avg_image_labels_data_as_array(X=X, y=y,\n",
    "                                        label_1='healthy', label_2='powdery_mildew',\n",
    "                                        figsize=(12, 10),\n",
    "                                        save_image=True\n",
    "                                        )\n"
   ]
  },
  {
   "cell_type": "markdown",
   "metadata": {},
   "source": [
    "### Pixel Colour Counter\n",
    "\n",
    "The function below loops through a selection of images and counts the number of green pixels, plotting the differences on a line graph and communicating the average number of green pixels across all images in the title. \n",
    "Note - Change path and plot title for healthy and powdery mildew images."
   ]
  },
  {
   "cell_type": "code",
   "execution_count": 20,
   "metadata": {},
   "outputs": [
    {
     "name": "stdout",
     "output_type": "stream",
     "text": [
      "125.87 green test 51\n"
     ]
    },
    {
     "data": {
      "image/png": "[encoded data removed]",
      "text/plain": [
       "<Figure size 500x500 with 1 Axes>"
      ]
     },
     "metadata": {},
     "output_type": "display_data"
    }
   ],
   "source": [
    "def colour_checker(path):\n",
    "    \"\"\"\n",
    "    This function counts the number of green pixels in a given number of leaf\n",
    "    images. This value is divided by the number of images to keep the value\n",
    "    representative. An average of green pixels across all images is also \n",
    "    captured and used in the figure title.\n",
    "    \"\"\"\n",
    "    count = 0\n",
    "    run_count = 0\n",
    "    green_pixels = 0\n",
    "    list_for_images = []\n",
    "    \n",
    "    for item in os.listdir(path):\n",
    "        if count < 51:\n",
    "            pathway = path + item\n",
    "            count += 1\n",
    "            if os.path.isfile(pathway):\n",
    "                img = Image.open(pathway)\n",
    "                img.convert('RGB')\n",
    "                for x in range(0, 100):\n",
    "                    for y in range(0, 100):\n",
    "                        r, g, b = img.getpixel((x,y))\n",
    "                        green_pixels += g\n",
    "                        run_count += 1\n",
    "            thisdict = dict(green = green_pixels/run_count)\n",
    "            list_for_images.append(thisdict)\n",
    "    df= pd.DataFrame.from_dict(list_for_images)\n",
    "    green_average = round(np.average(df['green']), 2)\n",
    "    print(green_average, \"green test\", len(df['green']))\n",
    "\n",
    "    #This code takes the dataframe which contains the details of the green\n",
    "    #pixel count and plots them in a line graph, saves plot also.\n",
    "    figure_size = (5, 5)\n",
    "    plt.figure(figsize=figure_size)\n",
    "    plt.plot(df['green'], color='green')\n",
    "    plt.xlabel(\"Image Number\")\n",
    "    plt.ylabel(\"Number of Pixels*\")\n",
    "    plt.title(f\"Green Pixels for Powdery Mildew Leaf Images, Average {green_average}\")\n",
    "    plt.grid(True)\n",
    "    plt.savefig(f'{file_path}/powdery_mildew_pixels.png',\n",
    "            bbox_inches='tight')\n",
    "    plt.show()\n",
    "    \n",
    "colour_checker(my_data_dir + '/train/powdery_mildew/')\n"
   ]
  },
  {
   "cell_type": "markdown",
   "metadata": {},
   "source": [
    "## Image Montage"
   ]
  },
  {
   "cell_type": "code",
   "execution_count": null,
   "metadata": {},
   "outputs": [],
   "source": [
    "import itertools\n",
    "import random\n",
    "sns.set_style(\"white\")\n",
    "\n",
    "\n",
    "def image_montage(dir_path, label_to_display, nrows, ncols, figsize=(15, 10)):\n",
    "    \"\"\"\n",
    "    if the label exists in the directory\n",
    "    check if your montage space is greater than the subset size\n",
    "    create a list of axes indices based on nrows and ncols\n",
    "    create a Figure and display images\n",
    "    in this loop, load and plot the given image\n",
    "    \"\"\"\n",
    "\n",
    "    labels = os.listdir(dir_path)\n",
    "\n",
    "    # subset the class to display\n",
    "    if label_to_display in labels:\n",
    "\n",
    "        # checks if the montage space is greater than the subset size\n",
    "        images_list = os.listdir(dir_path + '/' + label_to_display)\n",
    "        if nrows * ncols < len(images_list):\n",
    "            img_idx = random.sample(images_list, nrows * ncols)\n",
    "        else:\n",
    "            print(\n",
    "                f\"Decrease nrows or ncols to create your montage. \\n\"\n",
    "                f\"There are {len(images_list)} in your subset. \"\n",
    "                f\"You requested a montage with {nrows * ncols} spaces\")\n",
    "            return\n",
    "\n",
    "        # create a list of axes indices based on nrows and ncols\n",
    "        list_rows = range(0, nrows)\n",
    "        list_cols = range(0, ncols)\n",
    "        plot_idx = list(itertools.product(list_rows, list_cols))\n",
    "\n",
    "        # create a Figure and display images\n",
    "        fig, axes = plt.subplots(nrows=nrows, ncols=ncols, figsize=figsize)\n",
    "        for x in range(0, nrows*ncols):\n",
    "            img = imread(dir_path + '/' + label_to_display + '/' + img_idx[x])\n",
    "            img_shape = img.shape\n",
    "            axes[plot_idx[x][0], plot_idx[x][1]].imshow(img)\n",
    "            axes[plot_idx[x][0], plot_idx[x][1]].set_title(\n",
    "                f\"Width {img_shape[1]}px x Height {img_shape[0]}px\")\n",
    "            axes[plot_idx[x][0], plot_idx[x][1]].set_xticks([])\n",
    "            axes[plot_idx[x][0], plot_idx[x][1]].set_yticks([])\n",
    "        plt.tight_layout()\n",
    "        plt.show()\n",
    "\n",
    "    else:\n",
    "        print(\"The label you selected doesn't exist.\")\n",
    "        print(f\"The existing options are: {labels}\")\n"
   ]
  },
  {
   "cell_type": "code",
   "execution_count": null,
   "metadata": {},
   "outputs": [],
   "source": [
    "for label in labels:\n",
    "    print(label)\n",
    "    image_montage(dir_path=train_path,\n",
    "                  label_to_display=label,\n",
    "                  nrows=3, ncols=3,\n",
    "                  figsize=(10, 15)\n",
    "                  )\n",
    "    print(\"\\n\")\n"
   ]
  }
 ],
 "metadata": {
  "kernelspec": {
   "display_name": "Python 3",
   "language": "python",
   "name": "python3"
  },
  "language_info": {
   "codemirror_mode": {
    "name": "ipython",
    "version": 3
   },
   "file_extension": ".py",
   "mimetype": "text/x-python",
   "name": "python",
   "nbconvert_exporter": "python",
   "pygments_lexer": "ipython3",
   "version": "3.8.12"
  }
 },
 "nbformat": 4,
 "nbformat_minor": 2
}

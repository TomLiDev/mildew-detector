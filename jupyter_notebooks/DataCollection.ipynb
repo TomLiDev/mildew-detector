{
 "cells": [
  {
   "cell_type": "markdown",
   "metadata": {},
   "source": [
    "# Data Collection"
   ]
  },
  {
   "cell_type": "markdown",
   "metadata": {},
   "source": [
    "## Objectives\n",
    "\n",
    "1. Add kaggle.json file\n",
    "2. Successfully pull data from Kaggle via API\n",
    "3. Add json file to git.ignore\n",
    "\n",
    "## Inputs\n",
    "\n",
    "- Cherry leaves data from Kaggle API\n",
    "\n",
    "\n",
    "## Outputs\n",
    "\n",
    "- Unzipped cherry leaves image folders"
   ]
  },
  {
   "cell_type": "markdown",
   "metadata": {},
   "source": [
    "## Set Directory"
   ]
  },
  {
   "cell_type": "code",
   "execution_count": 1,
   "metadata": {},
   "outputs": [
    {
     "data": {
      "text/plain": [
       "'/workspaces/mildew-detector/jupyter_notebooks'"
      ]
     },
     "execution_count": 1,
     "metadata": {},
     "output_type": "execute_result"
    }
   ],
   "source": [
    "import os\n",
    "current_dir = os.getcwd()\n",
    "current_dir"
   ]
  },
  {
   "cell_type": "code",
   "execution_count": 2,
   "metadata": {},
   "outputs": [
    {
     "name": "stdout",
     "output_type": "stream",
     "text": [
      "/workspaces/mildew-detector/jupyter_notebooks\n"
     ]
    }
   ],
   "source": [
    "os.chdir(os.path.dirname(current_dir))\n",
    "print(current_dir)"
   ]
  },
  {
   "cell_type": "code",
   "execution_count": 3,
   "metadata": {},
   "outputs": [
    {
     "data": {
      "text/plain": [
       "'/workspaces/mildew-detector'"
      ]
     },
     "execution_count": 3,
     "metadata": {},
     "output_type": "execute_result"
    }
   ],
   "source": [
    "current_dir = os.getcwd()\n",
    "current_dir"
   ]
  },
  {
   "cell_type": "markdown",
   "metadata": {},
   "source": [
    "## Import Packages"
   ]
  },
  {
   "cell_type": "code",
   "execution_count": 4,
   "metadata": {},
   "outputs": [],
   "source": [
    "import numpy\n",
    "from PIL import Image"
   ]
  },
  {
   "cell_type": "code",
   "execution_count": null,
   "metadata": {},
   "outputs": [],
   "source": [
    "%pip install -r /workspaces/mildew-detector/requirements.txt"
   ]
  },
  {
   "cell_type": "markdown",
   "metadata": {},
   "source": [
    "## Install Kaggle"
   ]
  },
  {
   "cell_type": "code",
   "execution_count": null,
   "metadata": {},
   "outputs": [],
   "source": [
    "%pip install kaggle==1.5.12"
   ]
  },
  {
   "cell_type": "markdown",
   "metadata": {},
   "source": [
    "#### Configure Kaggle"
   ]
  },
  {
   "cell_type": "code",
   "execution_count": null,
   "metadata": {},
   "outputs": [],
   "source": [
    "os.environ['KAGGLE_CONFIG_DIR'] = os.getcwd()\n",
    "! chmod 600 kaggle.json"
   ]
  },
  {
   "cell_type": "markdown",
   "metadata": {},
   "source": [
    "#### Set Kaggle Dataset and Download"
   ]
  },
  {
   "cell_type": "code",
   "execution_count": null,
   "metadata": {},
   "outputs": [],
   "source": [
    "KaggleDatasetPath = \"codeinstitute/cherry-leaves\"\n",
    "DestinationFolder = \"inputs/mildew_dataset\"   \n",
    "! kaggle datasets download -d {KaggleDatasetPath} -p {DestinationFolder}"
   ]
  },
  {
   "cell_type": "markdown",
   "metadata": {},
   "source": [
    "Unzip downloaded file and delete zip file."
   ]
  },
  {
   "cell_type": "code",
   "execution_count": null,
   "metadata": {},
   "outputs": [],
   "source": [
    "import zipfile\n",
    "with zipfile.ZipFile(DestinationFolder + '/cherry-leaves.zip', 'r') as zip_ref:\n",
    "    zip_ref.extractall(DestinationFolder)\n",
    "\n",
    "os.remove(DestinationFolder + '/cherry-leaves.zip')"
   ]
  },
  {
   "cell_type": "markdown",
   "metadata": {},
   "source": [
    "## Data Preparation"
   ]
  },
  {
   "cell_type": "markdown",
   "metadata": {},
   "source": [
    "#### Data Cleaning\n",
    "\n",
    "Check and remove non-image files"
   ]
  },
  {
   "cell_type": "code",
   "execution_count": 5,
   "metadata": {},
   "outputs": [],
   "source": [
    "def remove_non_image_file(my_data_dir):\n",
    "    image_extension = ('.png', '.jpg', '.jpeg')\n",
    "    folders = os.listdir(my_data_dir)\n",
    "    for folder in folders:\n",
    "        files = os.listdir(my_data_dir + '/' + folder)\n",
    "        # print(files)\n",
    "        i = []\n",
    "        j = []\n",
    "        for given_file in files:\n",
    "            if not given_file.lower().endswith(image_extension):\n",
    "                file_location = my_data_dir + '/' + folder + '/' + given_file\n",
    "                os.remove(file_location)  # remove non image file\n",
    "                i.append(1)\n",
    "            else:\n",
    "                j.append(1)\n",
    "                pass\n",
    "        print(f\"Folder: {folder} - has image file\", len(j))\n",
    "        print(f\"Folder: {folder} - has non-image file\", len(i))"
   ]
  },
  {
   "cell_type": "code",
   "execution_count": 6,
   "metadata": {},
   "outputs": [
    {
     "name": "stdout",
     "output_type": "stream",
     "text": [
      "Folder: powdery_mildew - has image file 2104\n",
      "Folder: powdery_mildew - has non-image file 0\n"
     ]
    },
    {
     "ename": "IsADirectoryError",
     "evalue": "[Errno 21] Is a directory: 'inputs/mildew_dataset/cherry-leaves//resized/powdery_mildew'",
     "output_type": "error",
     "traceback": [
      "\u001b[0;31m---------------------------------------------------------------------------\u001b[0m",
      "\u001b[0;31mIsADirectoryError\u001b[0m                         Traceback (most recent call last)",
      "\u001b[1;32m/workspaces/mildew-detector/jupyter_notebooks/DataCollection.ipynb Cell 21\u001b[0m line \u001b[0;36m1\n\u001b[0;32m----> <a href='vscode-notebook-cell://tomlidev-mildew-detector-357wo0zx9v.us1.codeanyapp.com/workspaces/mildew-detector/jupyter_notebooks/DataCollection.ipynb#X26sdnNjb2RlLXJlbW90ZQ%3D%3D?line=0'>1</a>\u001b[0m remove_non_image_file(my_data_dir\u001b[39m=\u001b[39;49m\u001b[39m'\u001b[39;49m\u001b[39minputs/mildew_dataset/cherry-leaves/\u001b[39;49m\u001b[39m'\u001b[39;49m)\n",
      "\u001b[1;32m/workspaces/mildew-detector/jupyter_notebooks/DataCollection.ipynb Cell 21\u001b[0m line \u001b[0;36m1\n\u001b[1;32m     <a href='vscode-notebook-cell://tomlidev-mildew-detector-357wo0zx9v.us1.codeanyapp.com/workspaces/mildew-detector/jupyter_notebooks/DataCollection.ipynb#X26sdnNjb2RlLXJlbW90ZQ%3D%3D?line=9'>10</a>\u001b[0m \u001b[39mif\u001b[39;00m \u001b[39mnot\u001b[39;00m given_file\u001b[39m.\u001b[39mlower()\u001b[39m.\u001b[39mendswith(image_extension):\n\u001b[1;32m     <a href='vscode-notebook-cell://tomlidev-mildew-detector-357wo0zx9v.us1.codeanyapp.com/workspaces/mildew-detector/jupyter_notebooks/DataCollection.ipynb#X26sdnNjb2RlLXJlbW90ZQ%3D%3D?line=10'>11</a>\u001b[0m     file_location \u001b[39m=\u001b[39m my_data_dir \u001b[39m+\u001b[39m \u001b[39m'\u001b[39m\u001b[39m/\u001b[39m\u001b[39m'\u001b[39m \u001b[39m+\u001b[39m folder \u001b[39m+\u001b[39m \u001b[39m'\u001b[39m\u001b[39m/\u001b[39m\u001b[39m'\u001b[39m \u001b[39m+\u001b[39m given_file\n\u001b[0;32m---> <a href='vscode-notebook-cell://tomlidev-mildew-detector-357wo0zx9v.us1.codeanyapp.com/workspaces/mildew-detector/jupyter_notebooks/DataCollection.ipynb#X26sdnNjb2RlLXJlbW90ZQ%3D%3D?line=11'>12</a>\u001b[0m     os\u001b[39m.\u001b[39;49mremove(file_location)  \u001b[39m# remove non image file\u001b[39;00m\n\u001b[1;32m     <a href='vscode-notebook-cell://tomlidev-mildew-detector-357wo0zx9v.us1.codeanyapp.com/workspaces/mildew-detector/jupyter_notebooks/DataCollection.ipynb#X26sdnNjb2RlLXJlbW90ZQ%3D%3D?line=12'>13</a>\u001b[0m     i\u001b[39m.\u001b[39mappend(\u001b[39m1\u001b[39m)\n\u001b[1;32m     <a href='vscode-notebook-cell://tomlidev-mildew-detector-357wo0zx9v.us1.codeanyapp.com/workspaces/mildew-detector/jupyter_notebooks/DataCollection.ipynb#X26sdnNjb2RlLXJlbW90ZQ%3D%3D?line=13'>14</a>\u001b[0m \u001b[39melse\u001b[39;00m:\n",
      "\u001b[0;31mIsADirectoryError\u001b[0m: [Errno 21] Is a directory: 'inputs/mildew_dataset/cherry-leaves//resized/powdery_mildew'"
     ]
    }
   ],
   "source": [
    "remove_non_image_file(my_data_dir='inputs/mildew_dataset/cherry-leaves/')"
   ]
  },
  {
   "cell_type": "markdown",
   "metadata": {},
   "source": [
    "#### Resize Images to Smaller Pixel Size\n",
    "This is to avoid issues with a too-large slug for deployment later down the line. \n",
    "\n",
    "Note - Function in its current form requires the newPath variable to be amended to send the resized images to the correct folder."
   ]
  },
  {
   "cell_type": "code",
   "execution_count": null,
   "metadata": {},
   "outputs": [],
   "source": [
    "import os\n",
    "from os import listdir"
   ]
  },
  {
   "cell_type": "code",
   "execution_count": null,
   "metadata": {},
   "outputs": [],
   "source": [
    "def image_resize(path):\n",
    "    print(path)\n",
    "    newPath = 'inputs/mildew_dataset/cherry-leaves/resized/powdery_mildew/'\n",
    "    print ('newpathtest', newPath)\n",
    "\n",
    "    for item in os.listdir(path):\n",
    "        pathway = path + item\n",
    "        if os.path.isfile(pathway):\n",
    "            usePath = newPath + item\n",
    "            this = Image.open(pathway)\n",
    "            resized = this.resize((100, 100))\n",
    "            resized.save(usePath, 'JPEG')\n",
    "\n",
    "        "
   ]
  },
  {
   "cell_type": "code",
   "execution_count": null,
   "metadata": {},
   "outputs": [],
   "source": [
    "image_resize(path='inputs/mildew_dataset/cherry-leaves/powdery_mildew/')"
   ]
  },
  {
   "cell_type": "code",
   "execution_count": 60,
   "metadata": {},
   "outputs": [],
   "source": [
    "def folders_comparison(my_data_dir):\n",
    "    print(my_data_dir)\n",
    "    count = []\n",
    "    for item in os.listdir(my_data_dir):\n",
    "        pathway = my_data_dir + item\n",
    "        if os.path.isfile(pathway):\n",
    "            count.append('item')\n",
    "            x = len(count)\n",
    "    print('Number of files -', x)\n",
    "    print('Folder size in bytes -', os.path.getsize(my_data_dir))\n",
    "    \n",
    "            \n"
   ]
  },
  {
   "cell_type": "code",
   "execution_count": 68,
   "metadata": {},
   "outputs": [
    {
     "name": "stdout",
     "output_type": "stream",
     "text": [
      "inputs/mildew_dataset/cherry-leaves/resized/healthy/\n",
      "Number of files - 2104\n",
      "Folder size in bytes - 282624\n"
     ]
    }
   ],
   "source": [
    "folders_comparison(my_data_dir='inputs/mildew_dataset/cherry-leaves/resized/healthy/')"
   ]
  },
  {
   "cell_type": "code",
   "execution_count": 51,
   "metadata": {},
   "outputs": [],
   "source": [
    "def folder_size(path):\n",
    "    for folder in os.listdir(path):\n",
    "        total = 0\n",
    "        with os.scandir(path) as it:\n",
    "            for entry in it:\n",
    "                if entry.is_file():\n",
    "                    total += entry.stat().st_size\n",
    "    return total"
   ]
  },
  {
   "cell_type": "code",
   "execution_count": 52,
   "metadata": {},
   "outputs": [
    {
     "ename": "KeyboardInterrupt",
     "evalue": "",
     "output_type": "error",
     "traceback": [
      "\u001b[0;31m---------------------------------------------------------------------------\u001b[0m",
      "\u001b[0;31mKeyboardInterrupt\u001b[0m                         Traceback (most recent call last)",
      "\u001b[1;32m/workspaces/mildew-detector/jupyter_notebooks/DataCollection.ipynb Cell 29\u001b[0m line \u001b[0;36m1\n\u001b[0;32m----> <a href='vscode-notebook-cell://tomlidev-mildew-detector-357wo0zx9v.us1.codeanyapp.com/workspaces/mildew-detector/jupyter_notebooks/DataCollection.ipynb#X44sdnNjb2RlLXJlbW90ZQ%3D%3D?line=0'>1</a>\u001b[0m folder_size(\u001b[39m'\u001b[39;49m\u001b[39minputs/mildew_dataset/cherry-leaves/healthy/\u001b[39;49m\u001b[39m'\u001b[39;49m)\n",
      "\u001b[1;32m/workspaces/mildew-detector/jupyter_notebooks/DataCollection.ipynb Cell 29\u001b[0m line \u001b[0;36m5\n\u001b[1;32m      <a href='vscode-notebook-cell://tomlidev-mildew-detector-357wo0zx9v.us1.codeanyapp.com/workspaces/mildew-detector/jupyter_notebooks/DataCollection.ipynb#X44sdnNjb2RlLXJlbW90ZQ%3D%3D?line=2'>3</a>\u001b[0m total \u001b[39m=\u001b[39m \u001b[39m0\u001b[39m\n\u001b[1;32m      <a href='vscode-notebook-cell://tomlidev-mildew-detector-357wo0zx9v.us1.codeanyapp.com/workspaces/mildew-detector/jupyter_notebooks/DataCollection.ipynb#X44sdnNjb2RlLXJlbW90ZQ%3D%3D?line=3'>4</a>\u001b[0m \u001b[39mwith\u001b[39;00m os\u001b[39m.\u001b[39mscandir(path) \u001b[39mas\u001b[39;00m it:\n\u001b[0;32m----> <a href='vscode-notebook-cell://tomlidev-mildew-detector-357wo0zx9v.us1.codeanyapp.com/workspaces/mildew-detector/jupyter_notebooks/DataCollection.ipynb#X44sdnNjb2RlLXJlbW90ZQ%3D%3D?line=4'>5</a>\u001b[0m     \u001b[39mfor\u001b[39;00m entry \u001b[39min\u001b[39;00m it:\n\u001b[1;32m      <a href='vscode-notebook-cell://tomlidev-mildew-detector-357wo0zx9v.us1.codeanyapp.com/workspaces/mildew-detector/jupyter_notebooks/DataCollection.ipynb#X44sdnNjb2RlLXJlbW90ZQ%3D%3D?line=5'>6</a>\u001b[0m         \u001b[39mif\u001b[39;00m entry\u001b[39m.\u001b[39mis_file():\n\u001b[1;32m      <a href='vscode-notebook-cell://tomlidev-mildew-detector-357wo0zx9v.us1.codeanyapp.com/workspaces/mildew-detector/jupyter_notebooks/DataCollection.ipynb#X44sdnNjb2RlLXJlbW90ZQ%3D%3D?line=6'>7</a>\u001b[0m             total \u001b[39m+\u001b[39m\u001b[39m=\u001b[39m entry\u001b[39m.\u001b[39mstat()\u001b[39m.\u001b[39mst_size\n",
      "\u001b[0;31mKeyboardInterrupt\u001b[0m: "
     ]
    }
   ],
   "source": [
    "folder_size('inputs/mildew_dataset/cherry-leaves/healthy/')"
   ]
  },
  {
   "cell_type": "markdown",
   "metadata": {},
   "source": [
    "### Split Train and Validation Test Set\n",
    "\n",
    "Training, validation and test sets split by 0.7, 0.1 and 0.2 ratios. "
   ]
  },
  {
   "cell_type": "code",
   "execution_count": null,
   "metadata": {},
   "outputs": [],
   "source": [
    "import os\n",
    "import shutil\n",
    "import random\n",
    "import joblib\n",
    "\n",
    "\n",
    "def split_train_validation_test_images(my_data_dir, train_set_ratio, validation_set_ratio, test_set_ratio):\n",
    "\n",
    "    if train_set_ratio + validation_set_ratio + test_set_ratio != 1.0:\n",
    "        print(\"train_set_ratio + validation_set_ratio + test_set_ratio should sum to 1.0\")\n",
    "        return\n",
    "\n",
    "    # gets classes labels\n",
    "    labels = os.listdir(my_data_dir)  # it should get only the folder name\n",
    "    if 'test' in labels:\n",
    "        pass\n",
    "    else:\n",
    "        # create train, test folders with classes labels sub-folder\n",
    "        for folder in ['train', 'validation', 'test']:\n",
    "            for label in labels:\n",
    "                os.makedirs(name=my_data_dir + '/' + folder + '/' + label)\n",
    "\n",
    "        for label in labels:\n",
    "\n",
    "            files = os.listdir(my_data_dir + '/' + label)\n",
    "            random.shuffle(files)\n",
    "\n",
    "            train_set_files_qty = int(len(files) * train_set_ratio)\n",
    "            validation_set_files_qty = int(len(files) * validation_set_ratio)\n",
    "\n",
    "            count = 1\n",
    "            for file_name in files:\n",
    "                if count <= train_set_files_qty:\n",
    "                    # move a given file to the train set\n",
    "                    shutil.move(my_data_dir + '/' + label + '/' + file_name,\n",
    "                                my_data_dir + '/train/' + label + '/' + file_name)\n",
    "\n",
    "                elif count <= (train_set_files_qty + validation_set_files_qty):\n",
    "                    # move a given file to the validation set\n",
    "                    shutil.move(my_data_dir + '/' + label + '/' + file_name,\n",
    "                                my_data_dir + '/validation/' + label + '/' + file_name)\n",
    "\n",
    "                else:\n",
    "                    # move given file to test set\n",
    "                    shutil.move(my_data_dir + '/' + label + '/' + file_name,\n",
    "                                my_data_dir + '/test/' + label + '/' + file_name)\n",
    "\n",
    "                count += 1\n",
    "\n",
    "            os.rmdir(my_data_dir + '/' + label)\n"
   ]
  },
  {
   "cell_type": "code",
   "execution_count": null,
   "metadata": {},
   "outputs": [],
   "source": [
    "split_train_validation_test_images(my_data_dir=f\"inputs/mildew_dataset/cherry-leaves/\",\n",
    "                                   train_set_ratio=0.7,\n",
    "                                   validation_set_ratio=0.1,\n",
    "                                   test_set_ratio=0.2\n",
    "                                   )"
   ]
  }
 ],
 "metadata": {
  "kernelspec": {
   "display_name": "Python 3",
   "language": "python",
   "name": "python3"
  },
  "language_info": {
   "codemirror_mode": {
    "name": "ipython",
    "version": 3
   },
   "file_extension": ".py",
   "mimetype": "text/x-python",
   "name": "python",
   "nbconvert_exporter": "python",
   "pygments_lexer": "ipython3",
   "version": "3.8.12"
  }
 },
 "nbformat": 4,
 "nbformat_minor": 2
}
